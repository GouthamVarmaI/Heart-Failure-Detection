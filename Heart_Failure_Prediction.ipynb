{
  "nbformat": 4,
  "nbformat_minor": 0,
  "metadata": {
    "colab": {
      "name": "Heart_Failure_Prediction.ipynb",
      "provenance": [],
      "mount_file_id": "1jQ-xFiQlvFY4ATX3IGeK04HZKI70wfBO",
      "authorship_tag": "ABX9TyPjhJE5+h6OYZshikPFEMUR",
      "include_colab_link": true
    },
    "kernelspec": {
      "name": "python3",
      "display_name": "Python 3"
    },
    "language_info": {
      "name": "python"
    }
  },
  "cells": [
    {
      "cell_type": "markdown",
      "metadata": {
        "id": "view-in-github",
        "colab_type": "text"
      },
      "source": [
        "<a href=\"https://colab.research.google.com/github/GouthamVarmaI/Heart-Failure-Detection/blob/main/Heart_Failure_Prediction.ipynb\" target=\"_parent\"><img src=\"https://colab.research.google.com/assets/colab-badge.svg\" alt=\"Open In Colab\"/></a>"
      ]
    },
    {
      "cell_type": "code",
      "metadata": {
        "id": "RhwNrkQv3Dm3"
      },
      "source": [
        "import pandas as pd\n",
        "df = pd.read_csv(\"/content/drive/MyDrive/ML/heart.csv\")"
      ],
      "execution_count": null,
      "outputs": []
    },
    {
      "cell_type": "code",
      "metadata": {
        "colab": {
          "base_uri": "https://localhost:8080/",
          "height": 203
        },
        "id": "he7biGbl44Yg",
        "outputId": "13e417d0-408a-40c5-d67f-40ae9556b608"
      },
      "source": [
        "df.head()"
      ],
      "execution_count": null,
      "outputs": [
        {
          "output_type": "execute_result",
          "data": {
            "text/html": [
              "<div>\n",
              "<style scoped>\n",
              "    .dataframe tbody tr th:only-of-type {\n",
              "        vertical-align: middle;\n",
              "    }\n",
              "\n",
              "    .dataframe tbody tr th {\n",
              "        vertical-align: top;\n",
              "    }\n",
              "\n",
              "    .dataframe thead th {\n",
              "        text-align: right;\n",
              "    }\n",
              "</style>\n",
              "<table border=\"1\" class=\"dataframe\">\n",
              "  <thead>\n",
              "    <tr style=\"text-align: right;\">\n",
              "      <th></th>\n",
              "      <th>Age</th>\n",
              "      <th>Sex</th>\n",
              "      <th>ChestPainType</th>\n",
              "      <th>RestingBP</th>\n",
              "      <th>Cholesterol</th>\n",
              "      <th>FastingBS</th>\n",
              "      <th>RestingECG</th>\n",
              "      <th>MaxHR</th>\n",
              "      <th>ExerciseAngina</th>\n",
              "      <th>Oldpeak</th>\n",
              "      <th>ST_Slope</th>\n",
              "      <th>HeartDisease</th>\n",
              "    </tr>\n",
              "  </thead>\n",
              "  <tbody>\n",
              "    <tr>\n",
              "      <th>0</th>\n",
              "      <td>40</td>\n",
              "      <td>M</td>\n",
              "      <td>ATA</td>\n",
              "      <td>140</td>\n",
              "      <td>289</td>\n",
              "      <td>0</td>\n",
              "      <td>Normal</td>\n",
              "      <td>172</td>\n",
              "      <td>N</td>\n",
              "      <td>0.0</td>\n",
              "      <td>Up</td>\n",
              "      <td>0</td>\n",
              "    </tr>\n",
              "    <tr>\n",
              "      <th>1</th>\n",
              "      <td>49</td>\n",
              "      <td>F</td>\n",
              "      <td>NAP</td>\n",
              "      <td>160</td>\n",
              "      <td>180</td>\n",
              "      <td>0</td>\n",
              "      <td>Normal</td>\n",
              "      <td>156</td>\n",
              "      <td>N</td>\n",
              "      <td>1.0</td>\n",
              "      <td>Flat</td>\n",
              "      <td>1</td>\n",
              "    </tr>\n",
              "    <tr>\n",
              "      <th>2</th>\n",
              "      <td>37</td>\n",
              "      <td>M</td>\n",
              "      <td>ATA</td>\n",
              "      <td>130</td>\n",
              "      <td>283</td>\n",
              "      <td>0</td>\n",
              "      <td>ST</td>\n",
              "      <td>98</td>\n",
              "      <td>N</td>\n",
              "      <td>0.0</td>\n",
              "      <td>Up</td>\n",
              "      <td>0</td>\n",
              "    </tr>\n",
              "    <tr>\n",
              "      <th>3</th>\n",
              "      <td>48</td>\n",
              "      <td>F</td>\n",
              "      <td>ASY</td>\n",
              "      <td>138</td>\n",
              "      <td>214</td>\n",
              "      <td>0</td>\n",
              "      <td>Normal</td>\n",
              "      <td>108</td>\n",
              "      <td>Y</td>\n",
              "      <td>1.5</td>\n",
              "      <td>Flat</td>\n",
              "      <td>1</td>\n",
              "    </tr>\n",
              "    <tr>\n",
              "      <th>4</th>\n",
              "      <td>54</td>\n",
              "      <td>M</td>\n",
              "      <td>NAP</td>\n",
              "      <td>150</td>\n",
              "      <td>195</td>\n",
              "      <td>0</td>\n",
              "      <td>Normal</td>\n",
              "      <td>122</td>\n",
              "      <td>N</td>\n",
              "      <td>0.0</td>\n",
              "      <td>Up</td>\n",
              "      <td>0</td>\n",
              "    </tr>\n",
              "  </tbody>\n",
              "</table>\n",
              "</div>"
            ],
            "text/plain": [
              "   Age Sex ChestPainType  ...  Oldpeak  ST_Slope  HeartDisease\n",
              "0   40   M           ATA  ...      0.0        Up             0\n",
              "1   49   F           NAP  ...      1.0      Flat             1\n",
              "2   37   M           ATA  ...      0.0        Up             0\n",
              "3   48   F           ASY  ...      1.5      Flat             1\n",
              "4   54   M           NAP  ...      0.0        Up             0\n",
              "\n",
              "[5 rows x 12 columns]"
            ]
          },
          "metadata": {},
          "execution_count": 3
        }
      ]
    },
    {
      "cell_type": "code",
      "metadata": {
        "colab": {
          "base_uri": "https://localhost:8080/"
        },
        "id": "jxR2xd8s455b",
        "outputId": "fd480b2c-c846-470d-8306-7723d520bc54"
      },
      "source": [
        "df.info()\n",
        "df.columns"
      ],
      "execution_count": null,
      "outputs": [
        {
          "output_type": "stream",
          "name": "stdout",
          "text": [
            "<class 'pandas.core.frame.DataFrame'>\n",
            "RangeIndex: 918 entries, 0 to 917\n",
            "Data columns (total 12 columns):\n",
            " #   Column          Non-Null Count  Dtype  \n",
            "---  ------          --------------  -----  \n",
            " 0   Age             918 non-null    int64  \n",
            " 1   Sex             918 non-null    object \n",
            " 2   ChestPainType   918 non-null    object \n",
            " 3   RestingBP       918 non-null    int64  \n",
            " 4   Cholesterol     918 non-null    int64  \n",
            " 5   FastingBS       918 non-null    int64  \n",
            " 6   RestingECG      918 non-null    object \n",
            " 7   MaxHR           918 non-null    int64  \n",
            " 8   ExerciseAngina  918 non-null    object \n",
            " 9   Oldpeak         918 non-null    float64\n",
            " 10  ST_Slope        918 non-null    object \n",
            " 11  HeartDisease    918 non-null    int64  \n",
            "dtypes: float64(1), int64(6), object(5)\n",
            "memory usage: 86.2+ KB\n"
          ]
        },
        {
          "output_type": "execute_result",
          "data": {
            "text/plain": [
              "Index(['Age', 'Sex', 'ChestPainType', 'RestingBP', 'Cholesterol', 'FastingBS',\n",
              "       'RestingECG', 'MaxHR', 'ExerciseAngina', 'Oldpeak', 'ST_Slope',\n",
              "       'HeartDisease'],\n",
              "      dtype='object')"
            ]
          },
          "metadata": {},
          "execution_count": 4
        }
      ]
    },
    {
      "cell_type": "code",
      "metadata": {
        "colab": {
          "base_uri": "https://localhost:8080/"
        },
        "id": "c7aiKchx7P2E",
        "outputId": "97d0142a-477f-44d3-cf4f-e2f4bdffb303"
      },
      "source": [
        "df['FastingBS'].unique()"
      ],
      "execution_count": null,
      "outputs": [
        {
          "output_type": "execute_result",
          "data": {
            "text/plain": [
              "array([0, 1])"
            ]
          },
          "metadata": {},
          "execution_count": 5
        }
      ]
    },
    {
      "cell_type": "code",
      "metadata": {
        "id": "gSiC0wzi5BPF"
      },
      "source": [
        "x_feautures = ['Age', 'Sex', 'ChestPainType', 'RestingBP', 'Cholesterol', 'FastingBS', 'RestingECG', 'MaxHR', 'ExerciseAngina', 'Oldpeak', 'ST_Slope']"
      ],
      "execution_count": null,
      "outputs": []
    },
    {
      "cell_type": "code",
      "metadata": {
        "id": "45iaqEyZ5WEa"
      },
      "source": [
        "data = df[x_feautures]"
      ],
      "execution_count": null,
      "outputs": []
    },
    {
      "cell_type": "code",
      "metadata": {
        "colab": {
          "base_uri": "https://localhost:8080/",
          "height": 203
        },
        "id": "vo3D2iNd5afX",
        "outputId": "14be0db2-7f36-4105-a630-7d533618f974"
      },
      "source": [
        "data.head()"
      ],
      "execution_count": null,
      "outputs": [
        {
          "output_type": "execute_result",
          "data": {
            "text/html": [
              "<div>\n",
              "<style scoped>\n",
              "    .dataframe tbody tr th:only-of-type {\n",
              "        vertical-align: middle;\n",
              "    }\n",
              "\n",
              "    .dataframe tbody tr th {\n",
              "        vertical-align: top;\n",
              "    }\n",
              "\n",
              "    .dataframe thead th {\n",
              "        text-align: right;\n",
              "    }\n",
              "</style>\n",
              "<table border=\"1\" class=\"dataframe\">\n",
              "  <thead>\n",
              "    <tr style=\"text-align: right;\">\n",
              "      <th></th>\n",
              "      <th>Age</th>\n",
              "      <th>Sex</th>\n",
              "      <th>ChestPainType</th>\n",
              "      <th>RestingBP</th>\n",
              "      <th>Cholesterol</th>\n",
              "      <th>FastingBS</th>\n",
              "      <th>RestingECG</th>\n",
              "      <th>MaxHR</th>\n",
              "      <th>ExerciseAngina</th>\n",
              "      <th>Oldpeak</th>\n",
              "      <th>ST_Slope</th>\n",
              "    </tr>\n",
              "  </thead>\n",
              "  <tbody>\n",
              "    <tr>\n",
              "      <th>0</th>\n",
              "      <td>40</td>\n",
              "      <td>M</td>\n",
              "      <td>ATA</td>\n",
              "      <td>140</td>\n",
              "      <td>289</td>\n",
              "      <td>0</td>\n",
              "      <td>Normal</td>\n",
              "      <td>172</td>\n",
              "      <td>N</td>\n",
              "      <td>0.0</td>\n",
              "      <td>Up</td>\n",
              "    </tr>\n",
              "    <tr>\n",
              "      <th>1</th>\n",
              "      <td>49</td>\n",
              "      <td>F</td>\n",
              "      <td>NAP</td>\n",
              "      <td>160</td>\n",
              "      <td>180</td>\n",
              "      <td>0</td>\n",
              "      <td>Normal</td>\n",
              "      <td>156</td>\n",
              "      <td>N</td>\n",
              "      <td>1.0</td>\n",
              "      <td>Flat</td>\n",
              "    </tr>\n",
              "    <tr>\n",
              "      <th>2</th>\n",
              "      <td>37</td>\n",
              "      <td>M</td>\n",
              "      <td>ATA</td>\n",
              "      <td>130</td>\n",
              "      <td>283</td>\n",
              "      <td>0</td>\n",
              "      <td>ST</td>\n",
              "      <td>98</td>\n",
              "      <td>N</td>\n",
              "      <td>0.0</td>\n",
              "      <td>Up</td>\n",
              "    </tr>\n",
              "    <tr>\n",
              "      <th>3</th>\n",
              "      <td>48</td>\n",
              "      <td>F</td>\n",
              "      <td>ASY</td>\n",
              "      <td>138</td>\n",
              "      <td>214</td>\n",
              "      <td>0</td>\n",
              "      <td>Normal</td>\n",
              "      <td>108</td>\n",
              "      <td>Y</td>\n",
              "      <td>1.5</td>\n",
              "      <td>Flat</td>\n",
              "    </tr>\n",
              "    <tr>\n",
              "      <th>4</th>\n",
              "      <td>54</td>\n",
              "      <td>M</td>\n",
              "      <td>NAP</td>\n",
              "      <td>150</td>\n",
              "      <td>195</td>\n",
              "      <td>0</td>\n",
              "      <td>Normal</td>\n",
              "      <td>122</td>\n",
              "      <td>N</td>\n",
              "      <td>0.0</td>\n",
              "      <td>Up</td>\n",
              "    </tr>\n",
              "  </tbody>\n",
              "</table>\n",
              "</div>"
            ],
            "text/plain": [
              "   Age Sex ChestPainType  RestingBP  ...  MaxHR  ExerciseAngina Oldpeak  ST_Slope\n",
              "0   40   M           ATA        140  ...    172               N     0.0        Up\n",
              "1   49   F           NAP        160  ...    156               N     1.0      Flat\n",
              "2   37   M           ATA        130  ...     98               N     0.0        Up\n",
              "3   48   F           ASY        138  ...    108               Y     1.5      Flat\n",
              "4   54   M           NAP        150  ...    122               N     0.0        Up\n",
              "\n",
              "[5 rows x 11 columns]"
            ]
          },
          "metadata": {},
          "execution_count": 8
        }
      ]
    },
    {
      "cell_type": "code",
      "metadata": {
        "id": "keXgSagP5o_l"
      },
      "source": [
        "df_2 = pd.get_dummies(data,columns=['Sex','ChestPainType','RestingECG','ExerciseAngina','ST_Slope'],drop_first=True)"
      ],
      "execution_count": null,
      "outputs": []
    },
    {
      "cell_type": "code",
      "metadata": {
        "colab": {
          "base_uri": "https://localhost:8080/",
          "height": 223
        },
        "id": "QFJVZdp28co-",
        "outputId": "3b01909a-36a5-482d-c197-dd77cb24cf56"
      },
      "source": [
        "df_2.head()"
      ],
      "execution_count": null,
      "outputs": [
        {
          "output_type": "execute_result",
          "data": {
            "text/html": [
              "<div>\n",
              "<style scoped>\n",
              "    .dataframe tbody tr th:only-of-type {\n",
              "        vertical-align: middle;\n",
              "    }\n",
              "\n",
              "    .dataframe tbody tr th {\n",
              "        vertical-align: top;\n",
              "    }\n",
              "\n",
              "    .dataframe thead th {\n",
              "        text-align: right;\n",
              "    }\n",
              "</style>\n",
              "<table border=\"1\" class=\"dataframe\">\n",
              "  <thead>\n",
              "    <tr style=\"text-align: right;\">\n",
              "      <th></th>\n",
              "      <th>Age</th>\n",
              "      <th>RestingBP</th>\n",
              "      <th>Cholesterol</th>\n",
              "      <th>FastingBS</th>\n",
              "      <th>MaxHR</th>\n",
              "      <th>Oldpeak</th>\n",
              "      <th>Sex_M</th>\n",
              "      <th>ChestPainType_ATA</th>\n",
              "      <th>ChestPainType_NAP</th>\n",
              "      <th>ChestPainType_TA</th>\n",
              "      <th>RestingECG_Normal</th>\n",
              "      <th>RestingECG_ST</th>\n",
              "      <th>ExerciseAngina_Y</th>\n",
              "      <th>ST_Slope_Flat</th>\n",
              "      <th>ST_Slope_Up</th>\n",
              "    </tr>\n",
              "  </thead>\n",
              "  <tbody>\n",
              "    <tr>\n",
              "      <th>0</th>\n",
              "      <td>40</td>\n",
              "      <td>140</td>\n",
              "      <td>289</td>\n",
              "      <td>0</td>\n",
              "      <td>172</td>\n",
              "      <td>0.0</td>\n",
              "      <td>1</td>\n",
              "      <td>1</td>\n",
              "      <td>0</td>\n",
              "      <td>0</td>\n",
              "      <td>1</td>\n",
              "      <td>0</td>\n",
              "      <td>0</td>\n",
              "      <td>0</td>\n",
              "      <td>1</td>\n",
              "    </tr>\n",
              "    <tr>\n",
              "      <th>1</th>\n",
              "      <td>49</td>\n",
              "      <td>160</td>\n",
              "      <td>180</td>\n",
              "      <td>0</td>\n",
              "      <td>156</td>\n",
              "      <td>1.0</td>\n",
              "      <td>0</td>\n",
              "      <td>0</td>\n",
              "      <td>1</td>\n",
              "      <td>0</td>\n",
              "      <td>1</td>\n",
              "      <td>0</td>\n",
              "      <td>0</td>\n",
              "      <td>1</td>\n",
              "      <td>0</td>\n",
              "    </tr>\n",
              "    <tr>\n",
              "      <th>2</th>\n",
              "      <td>37</td>\n",
              "      <td>130</td>\n",
              "      <td>283</td>\n",
              "      <td>0</td>\n",
              "      <td>98</td>\n",
              "      <td>0.0</td>\n",
              "      <td>1</td>\n",
              "      <td>1</td>\n",
              "      <td>0</td>\n",
              "      <td>0</td>\n",
              "      <td>0</td>\n",
              "      <td>1</td>\n",
              "      <td>0</td>\n",
              "      <td>0</td>\n",
              "      <td>1</td>\n",
              "    </tr>\n",
              "    <tr>\n",
              "      <th>3</th>\n",
              "      <td>48</td>\n",
              "      <td>138</td>\n",
              "      <td>214</td>\n",
              "      <td>0</td>\n",
              "      <td>108</td>\n",
              "      <td>1.5</td>\n",
              "      <td>0</td>\n",
              "      <td>0</td>\n",
              "      <td>0</td>\n",
              "      <td>0</td>\n",
              "      <td>1</td>\n",
              "      <td>0</td>\n",
              "      <td>1</td>\n",
              "      <td>1</td>\n",
              "      <td>0</td>\n",
              "    </tr>\n",
              "    <tr>\n",
              "      <th>4</th>\n",
              "      <td>54</td>\n",
              "      <td>150</td>\n",
              "      <td>195</td>\n",
              "      <td>0</td>\n",
              "      <td>122</td>\n",
              "      <td>0.0</td>\n",
              "      <td>1</td>\n",
              "      <td>0</td>\n",
              "      <td>1</td>\n",
              "      <td>0</td>\n",
              "      <td>1</td>\n",
              "      <td>0</td>\n",
              "      <td>0</td>\n",
              "      <td>0</td>\n",
              "      <td>1</td>\n",
              "    </tr>\n",
              "  </tbody>\n",
              "</table>\n",
              "</div>"
            ],
            "text/plain": [
              "   Age  RestingBP  Cholesterol  ...  ExerciseAngina_Y  ST_Slope_Flat  ST_Slope_Up\n",
              "0   40        140          289  ...                 0              0            1\n",
              "1   49        160          180  ...                 0              1            0\n",
              "2   37        130          283  ...                 0              0            1\n",
              "3   48        138          214  ...                 1              1            0\n",
              "4   54        150          195  ...                 0              0            1\n",
              "\n",
              "[5 rows x 15 columns]"
            ]
          },
          "metadata": {},
          "execution_count": 10
        }
      ]
    },
    {
      "cell_type": "code",
      "metadata": {
        "id": "7QY9pKPD8e6u",
        "colab": {
          "base_uri": "https://localhost:8080/"
        },
        "outputId": "ca529afc-9bdc-4232-bd9b-64905612082f"
      },
      "source": [
        "import statsmodels.api as sm\n",
        "from sklearn.model_selection import train_test_split\n",
        "X = sm.add_constant(df_2)\n",
        "Y = df['HeartDisease']\n",
        "train_x,test_x,train_y,test_y = train_test_split(X,Y,train_size=0.8,random_state=0)"
      ],
      "execution_count": null,
      "outputs": [
        {
          "output_type": "stream",
          "name": "stderr",
          "text": [
            "/usr/local/lib/python3.7/dist-packages/statsmodels/tools/_testing.py:19: FutureWarning: pandas.util.testing is deprecated. Use the functions in the public API at pandas.testing instead.\n",
            "  import pandas.util.testing as tm\n"
          ]
        }
      ]
    },
    {
      "cell_type": "code",
      "metadata": {
        "colab": {
          "base_uri": "https://localhost:8080/"
        },
        "id": "IEjtNS1f83fF",
        "outputId": "ea10fdd3-3124-41bd-efd4-43b2b8dcfe7e"
      },
      "source": [
        "print(train_x.shape)"
      ],
      "execution_count": null,
      "outputs": [
        {
          "output_type": "stream",
          "name": "stdout",
          "text": [
            "(734, 16)\n"
          ]
        }
      ]
    },
    {
      "cell_type": "code",
      "metadata": {
        "id": "rJQfq-Oc9kao"
      },
      "source": [
        "model = sm.OLS(train_y,train_x).fit()"
      ],
      "execution_count": null,
      "outputs": []
    },
    {
      "cell_type": "code",
      "metadata": {
        "colab": {
          "base_uri": "https://localhost:8080/",
          "height": 593
        },
        "id": "VO6Dq4cG93vn",
        "outputId": "afcd1692-575a-454e-c09b-1e21a1ec5d0a"
      },
      "source": [
        "model.summary2()"
      ],
      "execution_count": null,
      "outputs": [
        {
          "output_type": "execute_result",
          "data": {
            "text/html": [
              "<table class=\"simpletable\">\n",
              "<tr>\n",
              "        <td>Model:</td>               <td>OLS</td>         <td>Adj. R-squared:</td>     <td>0.583</td>  \n",
              "</tr>\n",
              "<tr>\n",
              "  <td>Dependent Variable:</td>   <td>HeartDisease</td>          <td>AIC:</td>         <td>433.9185</td> \n",
              "</tr>\n",
              "<tr>\n",
              "         <td>Date:</td>        <td>2021-10-21 09:47</td>        <td>BIC:</td>         <td>507.4947</td> \n",
              "</tr>\n",
              "<tr>\n",
              "   <td>No. Observations:</td>         <td>734</td>         <td>Log-Likelihood:</td>    <td>-200.96</td> \n",
              "</tr>\n",
              "<tr>\n",
              "       <td>Df Model:</td>             <td>15</td>           <td>F-statistic:</td>       <td>69.32</td>  \n",
              "</tr>\n",
              "<tr>\n",
              "     <td>Df Residuals:</td>           <td>718</td>       <td>Prob (F-statistic):</td> <td>1.94e-128</td>\n",
              "</tr>\n",
              "<tr>\n",
              "      <td>R-squared:</td>            <td>0.592</td>            <td>Scale:</td>         <td>0.10349</td> \n",
              "</tr>\n",
              "</table>\n",
              "<table class=\"simpletable\">\n",
              "<tr>\n",
              "          <td></td>           <th>Coef.</th>  <th>Std.Err.</th>    <th>t</th>     <th>P>|t|</th> <th>[0.025</th>  <th>0.975]</th> \n",
              "</tr>\n",
              "<tr>\n",
              "  <th>const</th>             <td>0.5796</td>   <td>0.1651</td>  <td>3.5117</td>  <td>0.0005</td> <td>0.2556</td>  <td>0.9037</td> \n",
              "</tr>\n",
              "<tr>\n",
              "  <th>Age</th>               <td>0.0008</td>   <td>0.0015</td>  <td>0.4940</td>  <td>0.6215</td> <td>-0.0023</td> <td>0.0038</td> \n",
              "</tr>\n",
              "<tr>\n",
              "  <th>RestingBP</th>         <td>0.0003</td>   <td>0.0007</td>  <td>0.5045</td>  <td>0.6141</td> <td>-0.0010</td> <td>0.0017</td> \n",
              "</tr>\n",
              "<tr>\n",
              "  <th>Cholesterol</th>       <td>-0.0004</td>  <td>0.0001</td>  <td>-3.5665</td> <td>0.0004</td> <td>-0.0007</td> <td>-0.0002</td>\n",
              "</tr>\n",
              "<tr>\n",
              "  <th>FastingBS</th>         <td>0.1389</td>   <td>0.0313</td>  <td>4.4447</td>  <td>0.0000</td> <td>0.0775</td>  <td>0.2003</td> \n",
              "</tr>\n",
              "<tr>\n",
              "  <th>MaxHR</th>             <td>-0.0008</td>  <td>0.0006</td>  <td>-1.4013</td> <td>0.1616</td> <td>-0.0020</td> <td>0.0003</td> \n",
              "</tr>\n",
              "<tr>\n",
              "  <th>Oldpeak</th>           <td>0.0486</td>   <td>0.0140</td>  <td>3.4594</td>  <td>0.0006</td> <td>0.0210</td>  <td>0.0762</td> \n",
              "</tr>\n",
              "<tr>\n",
              "  <th>Sex_M</th>             <td>0.1552</td>   <td>0.0304</td>  <td>5.1024</td>  <td>0.0000</td> <td>0.0955</td>  <td>0.2149</td> \n",
              "</tr>\n",
              "<tr>\n",
              "  <th>ChestPainType_ATA</th> <td>-0.2611</td>  <td>0.0364</td>  <td>-7.1723</td> <td>0.0000</td> <td>-0.3326</td> <td>-0.1896</td>\n",
              "</tr>\n",
              "<tr>\n",
              "  <th>ChestPainType_NAP</th> <td>-0.2143</td>  <td>0.0323</td>  <td>-6.6256</td> <td>0.0000</td> <td>-0.2778</td> <td>-0.1508</td>\n",
              "</tr>\n",
              "<tr>\n",
              "  <th>ChestPainType_TA</th>  <td>-0.1345</td>  <td>0.0582</td>  <td>-2.3120</td> <td>0.0211</td> <td>-0.2488</td> <td>-0.0203</td>\n",
              "</tr>\n",
              "<tr>\n",
              "  <th>RestingECG_Normal</th> <td>-0.0281</td>  <td>0.0325</td>  <td>-0.8638</td> <td>0.3880</td> <td>-0.0920</td> <td>0.0358</td> \n",
              "</tr>\n",
              "<tr>\n",
              "  <th>RestingECG_ST</th>     <td>-0.0479</td>  <td>0.0400</td>  <td>-1.1981</td> <td>0.2313</td> <td>-0.1263</td> <td>0.0306</td> \n",
              "</tr>\n",
              "<tr>\n",
              "  <th>ExerciseAngina_Y</th>  <td>0.1259</td>   <td>0.0304</td>  <td>4.1446</td>  <td>0.0000</td> <td>0.0662</td>  <td>0.1855</td> \n",
              "</tr>\n",
              "<tr>\n",
              "  <th>ST_Slope_Flat</th>     <td>0.1478</td>   <td>0.0496</td>  <td>2.9788</td>  <td>0.0030</td> <td>0.0504</td>  <td>0.2451</td> \n",
              "</tr>\n",
              "<tr>\n",
              "  <th>ST_Slope_Up</th>       <td>-0.2521</td>  <td>0.0559</td>  <td>-4.5056</td> <td>0.0000</td> <td>-0.3619</td> <td>-0.1422</td>\n",
              "</tr>\n",
              "</table>\n",
              "<table class=\"simpletable\">\n",
              "<tr>\n",
              "     <td>Omnibus:</td>    <td>26.999</td>  <td>Durbin-Watson:</td>    <td>1.879</td>\n",
              "</tr>\n",
              "<tr>\n",
              "  <td>Prob(Omnibus):</td>  <td>0.000</td> <td>Jarque-Bera (JB):</td> <td>40.762</td>\n",
              "</tr>\n",
              "<tr>\n",
              "       <td>Skew:</td>     <td>-0.315</td>     <td>Prob(JB):</td>      <td>0.000</td>\n",
              "</tr>\n",
              "<tr>\n",
              "     <td>Kurtosis:</td>    <td>3.968</td>  <td>Condition No.:</td>    <td>4119</td> \n",
              "</tr>\n",
              "</table>"
            ],
            "text/plain": [
              "<class 'statsmodels.iolib.summary2.Summary'>\n",
              "\"\"\"\n",
              "                 Results: Ordinary least squares\n",
              "==================================================================\n",
              "Model:              OLS              Adj. R-squared:     0.583    \n",
              "Dependent Variable: HeartDisease     AIC:                433.9185 \n",
              "Date:               2021-10-21 09:47 BIC:                507.4947 \n",
              "No. Observations:   734              Log-Likelihood:     -200.96  \n",
              "Df Model:           15               F-statistic:        69.32    \n",
              "Df Residuals:       718              Prob (F-statistic): 1.94e-128\n",
              "R-squared:          0.592            Scale:              0.10349  \n",
              "------------------------------------------------------------------\n",
              "                    Coef.  Std.Err.    t    P>|t|   [0.025  0.975]\n",
              "------------------------------------------------------------------\n",
              "const               0.5796   0.1651  3.5117 0.0005  0.2556  0.9037\n",
              "Age                 0.0008   0.0015  0.4940 0.6215 -0.0023  0.0038\n",
              "RestingBP           0.0003   0.0007  0.5045 0.6141 -0.0010  0.0017\n",
              "Cholesterol        -0.0004   0.0001 -3.5665 0.0004 -0.0007 -0.0002\n",
              "FastingBS           0.1389   0.0313  4.4447 0.0000  0.0775  0.2003\n",
              "MaxHR              -0.0008   0.0006 -1.4013 0.1616 -0.0020  0.0003\n",
              "Oldpeak             0.0486   0.0140  3.4594 0.0006  0.0210  0.0762\n",
              "Sex_M               0.1552   0.0304  5.1024 0.0000  0.0955  0.2149\n",
              "ChestPainType_ATA  -0.2611   0.0364 -7.1723 0.0000 -0.3326 -0.1896\n",
              "ChestPainType_NAP  -0.2143   0.0323 -6.6256 0.0000 -0.2778 -0.1508\n",
              "ChestPainType_TA   -0.1345   0.0582 -2.3120 0.0211 -0.2488 -0.0203\n",
              "RestingECG_Normal  -0.0281   0.0325 -0.8638 0.3880 -0.0920  0.0358\n",
              "RestingECG_ST      -0.0479   0.0400 -1.1981 0.2313 -0.1263  0.0306\n",
              "ExerciseAngina_Y    0.1259   0.0304  4.1446 0.0000  0.0662  0.1855\n",
              "ST_Slope_Flat       0.1478   0.0496  2.9788 0.0030  0.0504  0.2451\n",
              "ST_Slope_Up        -0.2521   0.0559 -4.5056 0.0000 -0.3619 -0.1422\n",
              "------------------------------------------------------------------\n",
              "Omnibus:               26.999       Durbin-Watson:          1.879 \n",
              "Prob(Omnibus):         0.000        Jarque-Bera (JB):       40.762\n",
              "Skew:                  -0.315       Prob(JB):               0.000 \n",
              "Kurtosis:              3.968        Condition No.:          4119  \n",
              "==================================================================\n",
              "* The condition number is large (4e+03). This might indicate\n",
              "strong multicollinearity or other numerical problems.\n",
              "\"\"\""
            ]
          },
          "metadata": {},
          "execution_count": 14
        }
      ]
    },
    {
      "cell_type": "code",
      "metadata": {
        "colab": {
          "base_uri": "https://localhost:8080/"
        },
        "id": "ag6swES0953o",
        "outputId": "6e10d28c-bbf5-4cc1-ebf6-bb1b957d548a"
      },
      "source": [
        "from sklearn.metrics import r2_score,mean_squared_error\n",
        "import numpy as np\n",
        "pred_y = model.predict(test_x)\n",
        "print('r2_score :',np.abs(r2_score(pred_y,test_y)))\n",
        "print(\"RMSE :\",np.sqrt(mean_squared_error(pred_y,test_y)))"
      ],
      "execution_count": null,
      "outputs": [
        {
          "output_type": "stream",
          "name": "stdout",
          "text": [
            "r2_score : 0.10982602465723512\n",
            "RMSE : 0.3502775196514572\n"
          ]
        }
      ]
    },
    {
      "cell_type": "code",
      "metadata": {
        "colab": {
          "base_uri": "https://localhost:8080/"
        },
        "id": "dXwePczQ-wKy",
        "outputId": "9d9cbb13-9773-4252-9adb-28aa8cc5d405"
      },
      "source": [
        "s = model.pvalues\n",
        "print(s.index)\n",
        "impt_vars = list(s.index)  #s.index returns the variable names of the pandas series s. \n",
        "print(impt_vars)\n",
        "pvals = list(s)\n",
        "print(pvals)\n",
        "new = [i for i in zip(impt_vars,pvals)] \n",
        "print(\"List of all variables and their pvalues is\",new)\n",
        "important_vars = [ i[0]  for i in new if i[1] < 0.05]\n",
        "print(\"List of influencing variables is\",important_vars)"
      ],
      "execution_count": null,
      "outputs": [
        {
          "output_type": "stream",
          "name": "stdout",
          "text": [
            "Index(['const', 'Age', 'RestingBP', 'Cholesterol', 'FastingBS', 'MaxHR',\n",
            "       'Oldpeak', 'Sex_M', 'ChestPainType_ATA', 'ChestPainType_NAP',\n",
            "       'ChestPainType_TA', 'RestingECG_Normal', 'RestingECG_ST',\n",
            "       'ExerciseAngina_Y', 'ST_Slope_Flat', 'ST_Slope_Up'],\n",
            "      dtype='object')\n",
            "['const', 'Age', 'RestingBP', 'Cholesterol', 'FastingBS', 'MaxHR', 'Oldpeak', 'Sex_M', 'ChestPainType_ATA', 'ChestPainType_NAP', 'ChestPainType_TA', 'RestingECG_Normal', 'RestingECG_ST', 'ExerciseAngina_Y', 'ST_Slope_Flat', 'ST_Slope_Up']\n",
            "[0.0004731435955638116, 0.6214834901889296, 0.6140658823187563, 0.000385735772448133, 1.019515253505028e-05, 0.1615695917523098, 0.0005732651090857099, 4.2967466524302025e-07, 1.8398241172173025e-12, 6.7853688583246e-11, 0.021061935098847295, 0.3879742664849941, 0.23127239956027298, 3.811019576530688e-05, 0.0029909074316854865, 7.72400992794967e-06]\n",
            "List of all variables and their pvalues is [('const', 0.0004731435955638116), ('Age', 0.6214834901889296), ('RestingBP', 0.6140658823187563), ('Cholesterol', 0.000385735772448133), ('FastingBS', 1.019515253505028e-05), ('MaxHR', 0.1615695917523098), ('Oldpeak', 0.0005732651090857099), ('Sex_M', 4.2967466524302025e-07), ('ChestPainType_ATA', 1.8398241172173025e-12), ('ChestPainType_NAP', 6.7853688583246e-11), ('ChestPainType_TA', 0.021061935098847295), ('RestingECG_Normal', 0.3879742664849941), ('RestingECG_ST', 0.23127239956027298), ('ExerciseAngina_Y', 3.811019576530688e-05), ('ST_Slope_Flat', 0.0029909074316854865), ('ST_Slope_Up', 7.72400992794967e-06)]\n",
            "List of influencing variables is ['const', 'Cholesterol', 'FastingBS', 'Oldpeak', 'Sex_M', 'ChestPainType_ATA', 'ChestPainType_NAP', 'ChestPainType_TA', 'ExerciseAngina_Y', 'ST_Slope_Flat', 'ST_Slope_Up']\n"
          ]
        }
      ]
    },
    {
      "cell_type": "code",
      "metadata": {
        "colab": {
          "base_uri": "https://localhost:8080/",
          "height": 491
        },
        "id": "thpZx0Xj-6ni",
        "outputId": "2e8ecd25-e4ae-4aca-8c24-97eeed4400dd"
      },
      "source": [
        "train_x = train_x[important_vars]\n",
        "model2 = sm.OLS(train_y,train_x).fit()\n",
        "model2.summary2()"
      ],
      "execution_count": null,
      "outputs": [
        {
          "output_type": "execute_result",
          "data": {
            "text/html": [
              "<table class=\"simpletable\">\n",
              "<tr>\n",
              "        <td>Model:</td>               <td>OLS</td>         <td>Adj. R-squared:</td>     <td>0.583</td>  \n",
              "</tr>\n",
              "<tr>\n",
              "  <td>Dependent Variable:</td>   <td>HeartDisease</td>          <td>AIC:</td>         <td>428.7156</td> \n",
              "</tr>\n",
              "<tr>\n",
              "         <td>Date:</td>        <td>2021-10-21 09:47</td>        <td>BIC:</td>         <td>479.2992</td> \n",
              "</tr>\n",
              "<tr>\n",
              "   <td>No. Observations:</td>         <td>734</td>         <td>Log-Likelihood:</td>    <td>-203.36</td> \n",
              "</tr>\n",
              "<tr>\n",
              "       <td>Df Model:</td>             <td>10</td>           <td>F-statistic:</td>       <td>103.6</td>  \n",
              "</tr>\n",
              "<tr>\n",
              "     <td>Df Residuals:</td>           <td>723</td>       <td>Prob (F-statistic):</td> <td>2.51e-132</td>\n",
              "</tr>\n",
              "<tr>\n",
              "      <td>R-squared:</td>            <td>0.589</td>            <td>Scale:</td>         <td>0.10345</td> \n",
              "</tr>\n",
              "</table>\n",
              "<table class=\"simpletable\">\n",
              "<tr>\n",
              "          <td></td>           <th>Coef.</th>  <th>Std.Err.</th>    <th>t</th>     <th>P>|t|</th> <th>[0.025</th>  <th>0.975]</th> \n",
              "</tr>\n",
              "<tr>\n",
              "  <th>const</th>             <td>0.5298</td>   <td>0.0653</td>  <td>8.1177</td>  <td>0.0000</td> <td>0.4017</td>  <td>0.6580</td> \n",
              "</tr>\n",
              "<tr>\n",
              "  <th>Cholesterol</th>       <td>-0.0004</td>  <td>0.0001</td>  <td>-3.6623</td> <td>0.0003</td> <td>-0.0007</td> <td>-0.0002</td>\n",
              "</tr>\n",
              "<tr>\n",
              "  <th>FastingBS</th>         <td>0.1416</td>   <td>0.0306</td>  <td>4.6263</td>  <td>0.0000</td> <td>0.0815</td>  <td>0.2017</td> \n",
              "</tr>\n",
              "<tr>\n",
              "  <th>Oldpeak</th>           <td>0.0498</td>   <td>0.0138</td>  <td>3.6021</td>  <td>0.0003</td> <td>0.0227</td>  <td>0.0770</td> \n",
              "</tr>\n",
              "<tr>\n",
              "  <th>Sex_M</th>             <td>0.1569</td>   <td>0.0303</td>  <td>5.1833</td>  <td>0.0000</td> <td>0.0975</td>  <td>0.2163</td> \n",
              "</tr>\n",
              "<tr>\n",
              "  <th>ChestPainType_ATA</th> <td>-0.2713</td>  <td>0.0359</td>  <td>-7.5573</td> <td>0.0000</td> <td>-0.3418</td> <td>-0.2009</td>\n",
              "</tr>\n",
              "<tr>\n",
              "  <th>ChestPainType_NAP</th> <td>-0.2192</td>  <td>0.0320</td>  <td>-6.8598</td> <td>0.0000</td> <td>-0.2820</td> <td>-0.1565</td>\n",
              "</tr>\n",
              "<tr>\n",
              "  <th>ChestPainType_TA</th>  <td>-0.1341</td>  <td>0.0576</td>  <td>-2.3291</td> <td>0.0201</td> <td>-0.2471</td> <td>-0.0211</td>\n",
              "</tr>\n",
              "<tr>\n",
              "  <th>ExerciseAngina_Y</th>  <td>0.1350</td>   <td>0.0296</td>  <td>4.5547</td>  <td>0.0000</td> <td>0.0768</td>  <td>0.1931</td> \n",
              "</tr>\n",
              "<tr>\n",
              "  <th>ST_Slope_Flat</th>     <td>0.1461</td>   <td>0.0493</td>  <td>2.9656</td>  <td>0.0031</td> <td>0.0494</td>  <td>0.2428</td> \n",
              "</tr>\n",
              "<tr>\n",
              "  <th>ST_Slope_Up</th>       <td>-0.2660</td>  <td>0.0552</td>  <td>-4.8176</td> <td>0.0000</td> <td>-0.3743</td> <td>-0.1576</td>\n",
              "</tr>\n",
              "</table>\n",
              "<table class=\"simpletable\">\n",
              "<tr>\n",
              "     <td>Omnibus:</td>    <td>29.033</td>  <td>Durbin-Watson:</td>    <td>1.876</td>\n",
              "</tr>\n",
              "<tr>\n",
              "  <td>Prob(Omnibus):</td>  <td>0.000</td> <td>Jarque-Bera (JB):</td> <td>45.193</td>\n",
              "</tr>\n",
              "<tr>\n",
              "       <td>Skew:</td>     <td>-0.325</td>     <td>Prob(JB):</td>      <td>0.000</td>\n",
              "</tr>\n",
              "<tr>\n",
              "     <td>Kurtosis:</td>    <td>4.027</td>  <td>Condition No.:</td>    <td>1728</td> \n",
              "</tr>\n",
              "</table>"
            ],
            "text/plain": [
              "<class 'statsmodels.iolib.summary2.Summary'>\n",
              "\"\"\"\n",
              "                 Results: Ordinary least squares\n",
              "==================================================================\n",
              "Model:              OLS              Adj. R-squared:     0.583    \n",
              "Dependent Variable: HeartDisease     AIC:                428.7156 \n",
              "Date:               2021-10-21 09:47 BIC:                479.2992 \n",
              "No. Observations:   734              Log-Likelihood:     -203.36  \n",
              "Df Model:           10               F-statistic:        103.6    \n",
              "Df Residuals:       723              Prob (F-statistic): 2.51e-132\n",
              "R-squared:          0.589            Scale:              0.10345  \n",
              "------------------------------------------------------------------\n",
              "                    Coef.  Std.Err.    t    P>|t|   [0.025  0.975]\n",
              "------------------------------------------------------------------\n",
              "const               0.5298   0.0653  8.1177 0.0000  0.4017  0.6580\n",
              "Cholesterol        -0.0004   0.0001 -3.6623 0.0003 -0.0007 -0.0002\n",
              "FastingBS           0.1416   0.0306  4.6263 0.0000  0.0815  0.2017\n",
              "Oldpeak             0.0498   0.0138  3.6021 0.0003  0.0227  0.0770\n",
              "Sex_M               0.1569   0.0303  5.1833 0.0000  0.0975  0.2163\n",
              "ChestPainType_ATA  -0.2713   0.0359 -7.5573 0.0000 -0.3418 -0.2009\n",
              "ChestPainType_NAP  -0.2192   0.0320 -6.8598 0.0000 -0.2820 -0.1565\n",
              "ChestPainType_TA   -0.1341   0.0576 -2.3291 0.0201 -0.2471 -0.0211\n",
              "ExerciseAngina_Y    0.1350   0.0296  4.5547 0.0000  0.0768  0.1931\n",
              "ST_Slope_Flat       0.1461   0.0493  2.9656 0.0031  0.0494  0.2428\n",
              "ST_Slope_Up        -0.2660   0.0552 -4.8176 0.0000 -0.3743 -0.1576\n",
              "------------------------------------------------------------------\n",
              "Omnibus:               29.033       Durbin-Watson:          1.876 \n",
              "Prob(Omnibus):         0.000        Jarque-Bera (JB):       45.193\n",
              "Skew:                  -0.325       Prob(JB):               0.000 \n",
              "Kurtosis:              4.027        Condition No.:          1728  \n",
              "==================================================================\n",
              "* The condition number is large (2e+03). This might indicate\n",
              "strong multicollinearity or other numerical problems.\n",
              "\"\"\""
            ]
          },
          "metadata": {},
          "execution_count": 17
        }
      ]
    },
    {
      "cell_type": "code",
      "metadata": {
        "id": "1oh1Spvs_AQi"
      },
      "source": [
        "new_test_x = test_x[important_vars]\n",
        "pred_y = model2.predict(new_test_x)"
      ],
      "execution_count": null,
      "outputs": []
    },
    {
      "cell_type": "code",
      "metadata": {
        "colab": {
          "base_uri": "https://localhost:8080/"
        },
        "id": "jE4XGt8w_Dt8",
        "outputId": "3333e30a-0287-47ce-9204-d5b61fa4d3fc"
      },
      "source": [
        "from sklearn.metrics import r2_score,mean_squared_error\n",
        "import numpy as np\n",
        "print('r2_score : ',np.abs(r2_score(pred_y,test_y)))\n",
        "print('RMSE : ',np.sqrt(mean_squared_error(pred_y,test_y)))"
      ],
      "execution_count": null,
      "outputs": [
        {
          "output_type": "stream",
          "name": "stdout",
          "text": [
            "r2_score :  0.09930450500826526\n",
            "RMSE :  0.35140580744768807\n"
          ]
        }
      ]
    }
  ]
}